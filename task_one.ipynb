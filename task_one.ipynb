{
 "cells": [
  {
   "cell_type": "code",
   "execution_count": 1,
   "id": "c0b90de8-4d18-460d-8b26-03d558bf9708",
   "metadata": {},
   "outputs": [],
   "source": [
    "import pandas as pd"
   ]
  },
  {
   "cell_type": "code",
   "execution_count": 2,
   "id": "565f528b-214d-4cee-9f43-081a890da843",
   "metadata": {},
   "outputs": [
    {
     "name": "stdout",
     "output_type": "stream",
     "text": [
      "0    1\n",
      "1    2\n",
      "2    3\n",
      "3    4\n",
      "4    5\n",
      "dtype: int64\n"
     ]
    }
   ],
   "source": [
    "s = pd.Series([1, 2, 3, 4, 5])\n",
    "print(s)"
   ]
  },
  {
   "cell_type": "code",
   "execution_count": 3,
   "id": "ecfdc85c-9ba4-47a9-aed4-93f7f44af9d0",
   "metadata": {},
   "outputs": [
    {
     "name": "stdout",
     "output_type": "stream",
     "text": [
      "a    1\n",
      "b    2\n",
      "c    3\n",
      "d    4\n",
      "dtype: int64\n"
     ]
    }
   ],
   "source": [
    "d = {'a': 1, 'b': 2, 'c': 3, 'd': 4}\n",
    "s = pd.Series(d)\n",
    "print(s)"
   ]
  },
  {
   "cell_type": "code",
   "execution_count": 4,
   "id": "6fe3349b-2bc4-4097-b4e4-e75043059320",
   "metadata": {},
   "outputs": [
    {
     "name": "stdout",
     "output_type": "stream",
     "text": [
      "      Name  Age      City\n",
      "0     Ansh   25  New York\n",
      "1  Shubham   30    London\n",
      "2      Ram   35     Paris\n",
      "3  Krishna   40     Tokyo\n"
     ]
    }
   ],
   "source": [
    "data = {'Name': ['Ansh', 'Shubham', 'Ram', 'Krishna'],\n",
    "        'Age': [25, 30, 35, 40],\n",
    "        'City': ['New York', 'London', 'Paris', 'Tokyo']}\n",
    "\n",
    "df = pd.DataFrame(data)\n",
    "print(df)"
   ]
  },
  {
   "cell_type": "code",
   "execution_count": 7,
   "id": "bf854f09-c051-4842-ad74-3efc51ea189b",
   "metadata": {
    "scrolled": true
   },
   "outputs": [
    {
     "name": "stdout",
     "output_type": "stream",
     "text": [
      "0       Ansh\n",
      "1    Shubham\n",
      "2        Ram\n",
      "3    Krishna\n",
      "Name: Name, dtype: object\n",
      "\n",
      "\n",
      "\n",
      "Name      Ram\n",
      "Age        35\n",
      "City    Paris\n",
      "Name: 2, dtype: object\n",
      "\n",
      "\n",
      "\n",
      "Name    Shubham\n",
      "Age          30\n",
      "City     London\n",
      "Name: 1, dtype: object\n"
     ]
    }
   ],
   "source": [
    "print(df['Name']) # Access the 'Name' column\n",
    "print()\n",
    "print()\n",
    "print()\n",
    "print(df.iloc[2])  # Access the 3rd row (index 2) using integer location\n",
    "print()\n",
    "print()\n",
    "print()\n",
    "print(df.loc[1])   # Access the 2nd row (index 1) using label"
   ]
  },
  {
   "cell_type": "code",
   "execution_count": null,
   "id": "313bca87-5167-45d6-94a7-25720086796b",
   "metadata": {},
   "outputs": [],
   "source": []
  }
 ],
 "metadata": {
  "kernelspec": {
   "display_name": "Python 3 (ipykernel)",
   "language": "python",
   "name": "python3"
  },
  "language_info": {
   "codemirror_mode": {
    "name": "ipython",
    "version": 3
   },
   "file_extension": ".py",
   "mimetype": "text/x-python",
   "name": "python",
   "nbconvert_exporter": "python",
   "pygments_lexer": "ipython3",
   "version": "3.11.7"
  }
 },
 "nbformat": 4,
 "nbformat_minor": 5
}
