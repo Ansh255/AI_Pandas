{
 "cells": [
  {
   "cell_type": "code",
   "execution_count": null,
   "id": "9d3e74bd-a299-4231-9cad-47214abc9876",
   "metadata": {},
   "outputs": [],
   "source": [
    "# View/Inspecting Data:"
   ]
  },
  {
   "cell_type": "code",
   "execution_count": 2,
   "id": "f743d395-640d-46a6-a3c9-de6c54177802",
   "metadata": {},
   "outputs": [],
   "source": [
    "import pandas as pd"
   ]
  },
  {
   "cell_type": "code",
   "execution_count": 3,
   "id": "a52b0b2d-bbfe-4dc0-bb0a-e77a20c4a92a",
   "metadata": {},
   "outputs": [
    {
     "name": "stdout",
     "output_type": "stream",
     "text": [
      "{'Name': ['A', 'B', 'C', 'D', 'E', 'F', 'G', 'H', 'I', 'J'], 'Age': [24, 27, 22, 32, 28, 24, 27, 22, 32, 28], 'City': ['New York', 'Los Angeles', 'Chicago', 'Houston', 'Phoenix', 'New York', 'Los Angeles', 'Chicago', 'Houston', 'Phoenix'], 'Score': [88.5, 92.3, 79.5, 95.1, 85.0, 88.5, 92.3, 79.5, 95.1, 85.0]}\n"
     ]
    }
   ],
   "source": [
    "data = {\n",
    "    'Name': ['A', 'B', 'C', 'D', 'E','F', 'G', 'H', 'I', 'J'],\n",
    "    'Age': [24, 27, 22, 32, 28,24, 27, 22, 32, 28],\n",
    "    'City': ['New York', 'Los Angeles', 'Chicago', 'Houston', 'Phoenix','New York', 'Los Angeles', 'Chicago', 'Houston', 'Phoenix'],\n",
    "    'Score': [88.5, 92.3, 79.5, 95.1, 85.0,88.5, 92.3, 79.5, 95.1, 85.0]\n",
    "}\n",
    "print(data)"
   ]
  },
  {
   "cell_type": "code",
   "execution_count": 4,
   "id": "d7ee8b13-dc2e-491d-8e28-299394b6ad56",
   "metadata": {},
   "outputs": [
    {
     "name": "stdout",
     "output_type": "stream",
     "text": [
      "  Name  Age         City  Score\n",
      "0    A   24     New York   88.5\n",
      "1    B   27  Los Angeles   92.3\n",
      "2    C   22      Chicago   79.5\n",
      "3    D   32      Houston   95.1\n",
      "4    E   28      Phoenix   85.0\n",
      "5    F   24     New York   88.5\n",
      "6    G   27  Los Angeles   92.3\n",
      "7    H   22      Chicago   79.5\n",
      "8    I   32      Houston   95.1\n",
      "9    J   28      Phoenix   85.0\n"
     ]
    }
   ],
   "source": [
    "df = pd.DataFrame(data)\n",
    "print(df)"
   ]
  },
  {
   "cell_type": "code",
   "execution_count": 5,
   "id": "86feb8b7-3ed9-4021-8581-890e4ab48990",
   "metadata": {},
   "outputs": [
    {
     "name": "stdout",
     "output_type": "stream",
     "text": [
      "  Name  Age         City  Score\n",
      "0    A   24     New York   88.5\n",
      "1    B   27  Los Angeles   92.3\n",
      "2    C   22      Chicago   79.5\n",
      "3    D   32      Houston   95.1\n",
      "4    E   28      Phoenix   85.0\n"
     ]
    }
   ],
   "source": [
    "print(df.head())  # default first 5  rows of the DataFrame"
   ]
  },
  {
   "cell_type": "code",
   "execution_count": 6,
   "id": "53092166-1078-4253-a6fb-e7e9241c8c00",
   "metadata": {},
   "outputs": [
    {
     "name": "stdout",
     "output_type": "stream",
     "text": [
      "  Name  Age         City  Score\n",
      "0    A   24     New York   88.5\n",
      "1    B   27  Los Angeles   92.3\n",
      "2    C   22      Chicago   79.5\n"
     ]
    }
   ],
   "source": [
    "print(df.head(3))  # First 3 rows of the DataFrame"
   ]
  },
  {
   "cell_type": "code",
   "execution_count": 7,
   "id": "8c5ec807-4753-4efd-8dfc-855f8b8b1193",
   "metadata": {},
   "outputs": [
    {
     "name": "stdout",
     "output_type": "stream",
     "text": [
      "  Name  Age         City  Score\n",
      "5    F   24     New York   88.5\n",
      "6    G   27  Los Angeles   92.3\n",
      "7    H   22      Chicago   79.5\n",
      "8    I   32      Houston   95.1\n",
      "9    J   28      Phoenix   85.0\n"
     ]
    }
   ],
   "source": [
    "print(df.tail()) # default last 5 rows of the Dataframe"
   ]
  },
  {
   "cell_type": "code",
   "execution_count": 8,
   "id": "fe515df8-0e14-4211-97a2-d5f44a6b20b4",
   "metadata": {},
   "outputs": [
    {
     "name": "stdout",
     "output_type": "stream",
     "text": [
      "(10, 4)\n"
     ]
    }
   ],
   "source": [
    "print(df.shape) #represent tuple(no_of_row, no_of_column)"
   ]
  },
  {
   "cell_type": "code",
   "execution_count": 9,
   "id": "c8dcf647-a9bb-4798-8b46-17edcc7ce309",
   "metadata": {},
   "outputs": [
    {
     "name": "stdout",
     "output_type": "stream",
     "text": [
      "<class 'pandas.core.frame.DataFrame'>\n",
      "RangeIndex: 10 entries, 0 to 9\n",
      "Data columns (total 4 columns):\n",
      " #   Column  Non-Null Count  Dtype  \n",
      "---  ------  --------------  -----  \n",
      " 0   Name    10 non-null     object \n",
      " 1   Age     10 non-null     int64  \n",
      " 2   City    10 non-null     object \n",
      " 3   Score   10 non-null     float64\n",
      "dtypes: float64(1), int64(1), object(2)\n",
      "memory usage: 452.0+ bytes\n",
      "None\n"
     ]
    }
   ],
   "source": [
    "print(df.info()) #info of dataframe"
   ]
  },
  {
   "cell_type": "code",
   "execution_count": 10,
   "id": "eb2aa669-bf70-4759-a6fa-6df49bec5ce3",
   "metadata": {},
   "outputs": [
    {
     "name": "stdout",
     "output_type": "stream",
     "text": [
      "             Age      Score\n",
      "count  10.000000  10.000000\n",
      "mean   26.600000  88.080000\n",
      "std     3.627059   5.780581\n",
      "min    22.000000  79.500000\n",
      "25%    24.000000  85.000000\n",
      "50%    27.000000  88.500000\n",
      "75%    28.000000  92.300000\n",
      "max    32.000000  95.100000\n"
     ]
    }
   ],
   "source": [
    "print(df.describe())  # Summary statistics for numerical columns"
   ]
  },
  {
   "cell_type": "code",
   "execution_count": 11,
   "id": "55b03087-b293-47f7-abcd-9ca89649a805",
   "metadata": {},
   "outputs": [
    {
     "name": "stdout",
     "output_type": "stream",
     "text": [
      "City\n",
      "New York       2\n",
      "Los Angeles    2\n",
      "Chicago        2\n",
      "Houston        2\n",
      "Phoenix        2\n",
      "Name: count, dtype: int64\n"
     ]
    }
   ],
   "source": [
    "print(df['City'].value_counts(dropna=True)) #count value how many time used"
   ]
  },
  {
   "cell_type": "code",
   "execution_count": 15,
   "id": "8d43c2db-f280-4396-956f-190a983e47d0",
   "metadata": {},
   "outputs": [
    {
     "name": "stdout",
     "output_type": "stream",
     "text": [
      "Name  Age  City         Score\n",
      "A     24   New York     88.5     1\n",
      "B     27   Los Angeles  92.3     1\n",
      "C     22   Chicago      79.5     1\n",
      "D     32   Houston      95.1     1\n",
      "E     28   Phoenix      85.0     1\n",
      "F     24   New York     88.5     1\n",
      "G     27   Los Angeles  92.3     1\n",
      "H     22   Chicago      79.5     1\n",
      "I     32   Houston      95.1     1\n",
      "J     28   Phoenix      85.0     1\n",
      "Name: count, dtype: int64\n"
     ]
    }
   ],
   "source": [
    "print(df.value_counts()) #counts all values how many time used"
   ]
  },
  {
   "cell_type": "code",
   "execution_count": 18,
   "id": "b28290da-faf0-4491-b534-582a6ea1edb3",
   "metadata": {},
   "outputs": [
    {
     "data": {
      "text/plain": [
       "0       New York\n",
       "1    Los Angeles\n",
       "2        Chicago\n",
       "3        Houston\n",
       "4        Phoenix\n",
       "5       New York\n",
       "6    Los Angeles\n",
       "7        Chicago\n",
       "8        Houston\n",
       "9        Phoenix\n",
       "Name: City, dtype: object"
      ]
     },
     "execution_count": 18,
     "metadata": {},
     "output_type": "execute_result"
    }
   ],
   "source": [
    "df['City']  #access column using name"
   ]
  },
  {
   "cell_type": "code",
   "execution_count": 20,
   "id": "b63623cb-6079-4b9d-9ca1-a4c390f4f288",
   "metadata": {},
   "outputs": [
    {
     "data": {
      "text/html": [
       "<div>\n",
       "<style scoped>\n",
       "    .dataframe tbody tr th:only-of-type {\n",
       "        vertical-align: middle;\n",
       "    }\n",
       "\n",
       "    .dataframe tbody tr th {\n",
       "        vertical-align: top;\n",
       "    }\n",
       "\n",
       "    .dataframe thead th {\n",
       "        text-align: right;\n",
       "    }\n",
       "</style>\n",
       "<table border=\"1\" class=\"dataframe\">\n",
       "  <thead>\n",
       "    <tr style=\"text-align: right;\">\n",
       "      <th></th>\n",
       "      <th>Name</th>\n",
       "      <th>City</th>\n",
       "    </tr>\n",
       "  </thead>\n",
       "  <tbody>\n",
       "    <tr>\n",
       "      <th>0</th>\n",
       "      <td>A</td>\n",
       "      <td>New York</td>\n",
       "    </tr>\n",
       "    <tr>\n",
       "      <th>1</th>\n",
       "      <td>B</td>\n",
       "      <td>Los Angeles</td>\n",
       "    </tr>\n",
       "    <tr>\n",
       "      <th>2</th>\n",
       "      <td>C</td>\n",
       "      <td>Chicago</td>\n",
       "    </tr>\n",
       "    <tr>\n",
       "      <th>3</th>\n",
       "      <td>D</td>\n",
       "      <td>Houston</td>\n",
       "    </tr>\n",
       "    <tr>\n",
       "      <th>4</th>\n",
       "      <td>E</td>\n",
       "      <td>Phoenix</td>\n",
       "    </tr>\n",
       "    <tr>\n",
       "      <th>5</th>\n",
       "      <td>F</td>\n",
       "      <td>New York</td>\n",
       "    </tr>\n",
       "    <tr>\n",
       "      <th>6</th>\n",
       "      <td>G</td>\n",
       "      <td>Los Angeles</td>\n",
       "    </tr>\n",
       "    <tr>\n",
       "      <th>7</th>\n",
       "      <td>H</td>\n",
       "      <td>Chicago</td>\n",
       "    </tr>\n",
       "    <tr>\n",
       "      <th>8</th>\n",
       "      <td>I</td>\n",
       "      <td>Houston</td>\n",
       "    </tr>\n",
       "    <tr>\n",
       "      <th>9</th>\n",
       "      <td>J</td>\n",
       "      <td>Phoenix</td>\n",
       "    </tr>\n",
       "  </tbody>\n",
       "</table>\n",
       "</div>"
      ],
      "text/plain": [
       "  Name         City\n",
       "0    A     New York\n",
       "1    B  Los Angeles\n",
       "2    C      Chicago\n",
       "3    D      Houston\n",
       "4    E      Phoenix\n",
       "5    F     New York\n",
       "6    G  Los Angeles\n",
       "7    H      Chicago\n",
       "8    I      Houston\n",
       "9    J      Phoenix"
      ]
     },
     "execution_count": 20,
     "metadata": {},
     "output_type": "execute_result"
    }
   ],
   "source": [
    "df[['Name','City']] #access coulmns using names"
   ]
  },
  {
   "cell_type": "code",
   "execution_count": 39,
   "id": "58f24bd7-70a6-41ba-8ffe-7fd13d399d3b",
   "metadata": {},
   "outputs": [
    {
     "name": "stdout",
     "output_type": "stream",
     "text": [
      "0    A\n",
      "2    C\n",
      "4    E\n",
      "6    G\n",
      "8    I\n",
      "Name: Name, dtype: object\n"
     ]
    }
   ],
   "source": [
    "print(df['Name'].iloc[0:9:2])   #access coulmn using iloc"
   ]
  },
  {
   "cell_type": "code",
   "execution_count": 37,
   "id": "8b27fc2f-0f54-4f40-8f9c-02e6f9a0e0ab",
   "metadata": {},
   "outputs": [
    {
     "name": "stdout",
     "output_type": "stream",
     "text": [
      "F\n"
     ]
    }
   ],
   "source": [
    "print(df['Name'].iloc[5])"
   ]
  },
  {
   "cell_type": "code",
   "execution_count": 34,
   "id": "ac7c2ddd-c8d3-4dc0-8349-1f16b4444e12",
   "metadata": {},
   "outputs": [
    {
     "data": {
      "text/html": [
       "<div>\n",
       "<style scoped>\n",
       "    .dataframe tbody tr th:only-of-type {\n",
       "        vertical-align: middle;\n",
       "    }\n",
       "\n",
       "    .dataframe tbody tr th {\n",
       "        vertical-align: top;\n",
       "    }\n",
       "\n",
       "    .dataframe thead th {\n",
       "        text-align: right;\n",
       "    }\n",
       "</style>\n",
       "<table border=\"1\" class=\"dataframe\">\n",
       "  <thead>\n",
       "    <tr style=\"text-align: right;\">\n",
       "      <th></th>\n",
       "      <th>Name</th>\n",
       "      <th>Age</th>\n",
       "      <th>City</th>\n",
       "      <th>Score</th>\n",
       "    </tr>\n",
       "  </thead>\n",
       "  <tbody>\n",
       "    <tr>\n",
       "      <th>0</th>\n",
       "      <td>A</td>\n",
       "      <td>24</td>\n",
       "      <td>New York</td>\n",
       "      <td>88.5</td>\n",
       "    </tr>\n",
       "    <tr>\n",
       "      <th>1</th>\n",
       "      <td>B</td>\n",
       "      <td>27</td>\n",
       "      <td>Los Angeles</td>\n",
       "      <td>92.3</td>\n",
       "    </tr>\n",
       "    <tr>\n",
       "      <th>2</th>\n",
       "      <td>C</td>\n",
       "      <td>22</td>\n",
       "      <td>Chicago</td>\n",
       "      <td>79.5</td>\n",
       "    </tr>\n",
       "    <tr>\n",
       "      <th>3</th>\n",
       "      <td>D</td>\n",
       "      <td>32</td>\n",
       "      <td>Houston</td>\n",
       "      <td>95.1</td>\n",
       "    </tr>\n",
       "    <tr>\n",
       "      <th>4</th>\n",
       "      <td>E</td>\n",
       "      <td>28</td>\n",
       "      <td>Phoenix</td>\n",
       "      <td>85.0</td>\n",
       "    </tr>\n",
       "    <tr>\n",
       "      <th>5</th>\n",
       "      <td>F</td>\n",
       "      <td>24</td>\n",
       "      <td>New York</td>\n",
       "      <td>88.5</td>\n",
       "    </tr>\n",
       "    <tr>\n",
       "      <th>6</th>\n",
       "      <td>G</td>\n",
       "      <td>27</td>\n",
       "      <td>Los Angeles</td>\n",
       "      <td>92.3</td>\n",
       "    </tr>\n",
       "    <tr>\n",
       "      <th>7</th>\n",
       "      <td>H</td>\n",
       "      <td>22</td>\n",
       "      <td>Chicago</td>\n",
       "      <td>79.5</td>\n",
       "    </tr>\n",
       "    <tr>\n",
       "      <th>8</th>\n",
       "      <td>I</td>\n",
       "      <td>32</td>\n",
       "      <td>Houston</td>\n",
       "      <td>95.1</td>\n",
       "    </tr>\n",
       "    <tr>\n",
       "      <th>9</th>\n",
       "      <td>J</td>\n",
       "      <td>28</td>\n",
       "      <td>Phoenix</td>\n",
       "      <td>85.0</td>\n",
       "    </tr>\n",
       "  </tbody>\n",
       "</table>\n",
       "</div>"
      ],
      "text/plain": [
       "  Name  Age         City  Score\n",
       "0    A   24     New York   88.5\n",
       "1    B   27  Los Angeles   92.3\n",
       "2    C   22      Chicago   79.5\n",
       "3    D   32      Houston   95.1\n",
       "4    E   28      Phoenix   85.0\n",
       "5    F   24     New York   88.5\n",
       "6    G   27  Los Angeles   92.3\n",
       "7    H   22      Chicago   79.5\n",
       "8    I   32      Houston   95.1\n",
       "9    J   28      Phoenix   85.0"
      ]
     },
     "execution_count": 34,
     "metadata": {},
     "output_type": "execute_result"
    }
   ],
   "source": [
    "df"
   ]
  },
  {
   "cell_type": "code",
   "execution_count": 36,
   "id": "d548120e-5627-43fc-8d84-75a93c3a6ddb",
   "metadata": {},
   "outputs": [
    {
     "name": "stdout",
     "output_type": "stream",
     "text": [
      "New York\n"
     ]
    }
   ],
   "source": [
    "print(df.iloc[5,2])"
   ]
  },
  {
   "cell_type": "code",
   "execution_count": 54,
   "id": "f0456fd3-9dd0-4919-8e9b-65867435a1eb",
   "metadata": {},
   "outputs": [
    {
     "data": {
      "text/html": [
       "<div>\n",
       "<style scoped>\n",
       "    .dataframe tbody tr th:only-of-type {\n",
       "        vertical-align: middle;\n",
       "    }\n",
       "\n",
       "    .dataframe tbody tr th {\n",
       "        vertical-align: top;\n",
       "    }\n",
       "\n",
       "    .dataframe thead th {\n",
       "        text-align: right;\n",
       "    }\n",
       "</style>\n",
       "<table border=\"1\" class=\"dataframe\">\n",
       "  <thead>\n",
       "    <tr style=\"text-align: right;\">\n",
       "      <th></th>\n",
       "      <th>Name</th>\n",
       "      <th>Age</th>\n",
       "      <th>City</th>\n",
       "      <th>Score</th>\n",
       "    </tr>\n",
       "  </thead>\n",
       "  <tbody>\n",
       "    <tr>\n",
       "      <th>0</th>\n",
       "      <td>A</td>\n",
       "      <td>24</td>\n",
       "      <td>New York</td>\n",
       "      <td>88.5</td>\n",
       "    </tr>\n",
       "  </tbody>\n",
       "</table>\n",
       "</div>"
      ],
      "text/plain": [
       "  Name  Age      City  Score\n",
       "0    A   24  New York   88.5"
      ]
     },
     "execution_count": 54,
     "metadata": {},
     "output_type": "execute_result"
    }
   ],
   "source": [
    "df.iloc[0:1]"
   ]
  }
 ],
 "metadata": {
  "kernelspec": {
   "display_name": "Python 3 (ipykernel)",
   "language": "python",
   "name": "python3"
  },
  "language_info": {
   "codemirror_mode": {
    "name": "ipython",
    "version": 3
   },
   "file_extension": ".py",
   "mimetype": "text/x-python",
   "name": "python",
   "nbconvert_exporter": "python",
   "pygments_lexer": "ipython3",
   "version": "3.11.7"
  }
 },
 "nbformat": 4,
 "nbformat_minor": 5
}
